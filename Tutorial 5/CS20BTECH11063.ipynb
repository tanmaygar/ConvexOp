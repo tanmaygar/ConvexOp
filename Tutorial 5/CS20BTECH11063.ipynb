{
 "cells": [
  {
   "cell_type": "markdown",
   "metadata": {},
   "source": [
    "# Convex Optimization\n",
    "## Tutorial 5\n",
    "### Tanmay Garg CS20BTECH11063"
   ]
  },
  {
   "cell_type": "code",
   "execution_count": 46,
   "metadata": {},
   "outputs": [],
   "source": [
    "#Importing required Libraries\n",
    "import numpy as np\n",
    "import matplotlib.pyplot as plt\n",
    "import cvxpy as cp"
   ]
  },
  {
   "cell_type": "code",
   "execution_count": 47,
   "metadata": {},
   "outputs": [],
   "source": [
    "# We have n factories and m destinations\n",
    "# S vector will be the supply vector from each factory\n",
    "# D vector will be the demand vector at each destination\n",
    "# C will the cost of shipping matrix (n x m)\n",
    "# Q will quantitiy of each product shipped from each factory to each destination (n x m)"
   ]
  },
  {
   "cell_type": "code",
   "execution_count": 48,
   "metadata": {},
   "outputs": [],
   "source": [
    "n = 3\n",
    "m = 5\n",
    "S = np.matrix('40 50 45')\n",
    "S = S.T\n",
    "D = np.matrix('45 20 30 30 10')\n",
    "D = D.T\n",
    "C = np.matrix('8 6 10 9 8; 9 12 13 7 5; 14 9 16 5 2')"
   ]
  },
  {
   "cell_type": "code",
   "execution_count": 49,
   "metadata": {},
   "outputs": [],
   "source": [
    "Q = cp.Variable((n, m))\n",
    "\n",
    "MyObjective = cp.Minimize(cp.sum(cp.multiply(C, Q)))\n",
    "\n",
    "MyConstraint = [\n",
    "    Q >= 0,\n",
    "    cp.matmul(Q, np.ones((m, 1))) == S,\n",
    "    cp.matmul(Q.T, np.ones((n, 1))) >= D\n",
    "]"
   ]
  },
  {
   "cell_type": "code",
   "execution_count": 50,
   "metadata": {},
   "outputs": [
    {
     "name": "stdout",
     "output_type": "stream",
     "text": [
      "1025.0000000255045\n"
     ]
    }
   ],
   "source": [
    "MyProblem = cp.Problem(MyObjective, MyConstraint)\n",
    "value = MyProblem.solve()\n",
    "print(value)"
   ]
  },
  {
   "cell_type": "code",
   "execution_count": 51,
   "metadata": {},
   "outputs": [
    {
     "name": "stdout",
     "output_type": "stream",
     "text": [
      "The quanity of each product shipped from each factory to each destination\n",
      "[[ 0. 15. 25.  0.  0.]\n",
      " [45.  0.  5.  0.  0.]\n",
      " [ 0.  5.  0. 30. 10.]]\n",
      "The total cost of shipping each product:  1025.0000000255045\n",
      "Total quantity supplied from each factory:  [40. 50. 45.]\n",
      "Total quantity received by each destination:  [45. 20. 30. 30. 10.]\n"
     ]
    }
   ],
   "source": [
    "print(\"The quanity of each product shipped from each factory to each destination\")\n",
    "print(np.round(Q.value))\n",
    "\n",
    "print(\"The total cost of shipping each product: \", value)\n",
    "\n",
    "print(\"Total quantity supplied from each factory: \", np.sum(Q.value, axis=1))\n",
    "print(\"Total quantity received by each destination: \", np.sum(Q.value, axis=0))"
   ]
  }
 ],
 "metadata": {
  "interpreter": {
   "hash": "08d3eecb2fabbb0c5d31990520f98cd04f9a92388665ee41436dce04fb0533ac"
  },
  "kernelspec": {
   "display_name": "Python 3.9.0 64-bit",
   "language": "python",
   "name": "python3"
  },
  "language_info": {
   "codemirror_mode": {
    "name": "ipython",
    "version": 3
   },
   "file_extension": ".py",
   "mimetype": "text/x-python",
   "name": "python",
   "nbconvert_exporter": "python",
   "pygments_lexer": "ipython3",
   "version": "3.9.0"
  },
  "orig_nbformat": 4
 },
 "nbformat": 4,
 "nbformat_minor": 2
}
