{
 "cells": [
  {
   "cell_type": "markdown",
   "metadata": {},
   "source": [
    "# Convex Optimization\n",
    "## Tutorial 11\n",
    "### Tanmay Garg CS20BTECH11063"
   ]
  },
  {
   "cell_type": "code",
   "execution_count": 42,
   "metadata": {},
   "outputs": [],
   "source": [
    "#Importing required Libraries\n",
    "import numpy as np\n",
    "import matplotlib.pyplot as plt\n",
    "import cvxpy as cp\n",
    "import math"
   ]
  },
  {
   "cell_type": "code",
   "execution_count": 43,
   "metadata": {},
   "outputs": [],
   "source": [
    "from sp_ln_sp import *"
   ]
  },
  {
   "cell_type": "code",
   "execution_count": 44,
   "metadata": {},
   "outputs": [
    {
     "name": "stdout",
     "output_type": "stream",
     "text": [
      "The Maximum thickness value is:  116.42440493435046\n"
     ]
    }
   ],
   "source": [
    "a = cp.Variable((n,))\n",
    "b = cp.Variable(1)\n",
    "\n",
    "\n",
    "MyObjective = cp.Minimize(cp.norm(a, 2))\n",
    "MyConstraits = [\n",
    "    X.T@a - b >= 1,\n",
    "    Y.T@a - b <= -1,\n",
    "]\n",
    "\n",
    "MyProblem = cp.Problem(MyObjective, MyConstraits)\n",
    "opt_val = MyProblem.solve()\n",
    "print(\"The Maximum thickness value is: \", 2 / opt_val)"
   ]
  },
  {
   "cell_type": "code",
   "execution_count": 45,
   "metadata": {},
   "outputs": [],
   "source": [
    "# lambda_val = np.logspace(-10, 10)\n",
    "# lambda_val = np.logspace(1, 8)\n",
    "# lambda_val = np.logspace(0, 5)\n",
    "lambda_val = np.logspace(-3, 5)\n",
    "Width_A = []\n",
    "card_A = []\n",
    "A_val = np.zeros((n, len(lambda_val)))\n",
    "\n",
    "for i in range(len(lambda_val)):\n",
    "    a = cp.Variable((n,))\n",
    "    b = cp.Variable(1)\n",
    "\n",
    "    MyObjective = cp.Minimize(cp.norm(a, 2) + lambda_val[i] * cp.norm(a, 1))\n",
    "\n",
    "    MyConstraits = [\n",
    "        X.T@a - b >= 1,\n",
    "        Y.T@a - b <= -1,\n",
    "    ]\n",
    "\n",
    "    MyProblem = cp.Problem(MyObjective, MyConstraits)\n",
    "    opt_val = MyProblem.solve()\n",
    "    \n",
    "    Width_A.append(2 / cp.norm(a, 2).value)\n",
    "    card_A.append(np.count_nonzero(np.abs(a.value) > 1e-4))\n",
    "    A_val[:, i] = a.value\n"
   ]
  },
  {
   "cell_type": "code",
   "execution_count": 46,
   "metadata": {},
   "outputs": [
    {
     "data": {
      "image/png": "[encoded data removed]",
      "text/plain": [
       "<Figure size 432x288 with 1 Axes>"
      ]
     },
     "metadata": {
      "needs_background": "light"
     },
     "output_type": "display_data"
    }
   ],
   "source": [
    "plt.figure()\n",
    "plt.plot(card_A, Width_A)\n",
    "plt.ylabel('Thickness')\n",
    "plt.xlabel('Cardinality of A')\n",
    "plt.title('Thickness vs Cardinality of A')\n",
    "plt.xticks(np.arange(10, 55, 5.0))\n",
    "plt.yticks(np.arange(75, 125, 5.0))\n",
    "plt.show()\n",
    "# print(card_A)\n",
    "# print(np.amax(A_val))"
   ]
  },
  {
   "cell_type": "code",
   "execution_count": 47,
   "metadata": {},
   "outputs": [
    {
     "name": "stdout",
     "output_type": "stream",
     "text": [
      "The Maximum thickness value for 10 features is:  78.46967629764835\n",
      "Indices Chosen:  [ 0  6  7 17 18 20 22 25 26 45]\n"
     ]
    }
   ],
   "source": [
    "mat = np.where(np.array(card_A) == 10)\n",
    "# print(mat)\n",
    "# print(mat[0][-1])\n",
    "\n",
    "# chosen_width = Width_A[mat[0][-1]]\n",
    "chosen_a = A_val[:, mat[0][0]]\n",
    "\n",
    "chosen_feature = np.where(np.abs(chosen_a) > 1e-4)\n",
    "num_features = len(chosen_feature[0])\n",
    "\n",
    "new_X = X[chosen_feature[0], :]\n",
    "new_Y = Y[chosen_feature[0], :]\n",
    "\n",
    "a = cp.Variable((num_features,))\n",
    "b = cp.Variable(1)\n",
    "MyObjective = cp.Minimize(cp.norm(a, 2))\n",
    "MyConstraits = [\n",
    "    new_X.T@a - b >= 1,\n",
    "    new_Y.T@a - b <= -1,\n",
    "]\n",
    "\n",
    "MyProblem = cp.Problem(MyObjective, MyConstraits)\n",
    "opt_val = MyProblem.solve()\n",
    "# print(\"The Maximum original thickness value is: \", Width_A[mat[0][0]])\n",
    "print(\"The Maximum thickness value for 10 features is: \", 2 / opt_val)\n",
    "print(\"Indices Chosen: \", chosen_feature[0])\n",
    "# print(chosen_feature)\n",
    "\n",
    "# print(card_A)\n",
    "# print(np.amax(A_val))\n"
   ]
  }
 ],
 "metadata": {
  "interpreter": {
   "hash": "08d3eecb2fabbb0c5d31990520f98cd04f9a92388665ee41436dce04fb0533ac"
  },
  "kernelspec": {
   "display_name": "Python 3.9.0 64-bit",
   "language": "python",
   "name": "python3"
  },
  "language_info": {
   "codemirror_mode": {
    "name": "ipython",
    "version": 3
   },
   "file_extension": ".py",
   "mimetype": "text/x-python",
   "name": "python",
   "nbconvert_exporter": "python",
   "pygments_lexer": "ipython3",
   "version": "3.9.12"
  },
  "orig_nbformat": 4
 },
 "nbformat": 4,
 "nbformat_minor": 2
}
