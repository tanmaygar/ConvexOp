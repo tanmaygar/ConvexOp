{
 "cells": [
  {
   "cell_type": "markdown",
   "metadata": {},
   "source": [
    "# Convex Optimization\n",
    "## Tutorial 1\n",
    "### Tanmay Garg CS20BTECH11063"
   ]
  },
  {
   "cell_type": "code",
   "execution_count": 1,
   "metadata": {},
   "outputs": [],
   "source": [
    "# Importing required Libraries\n",
    "\n",
    "import numpy as np\n",
    "import matplotlib.pyplot as plt\n",
    "import cvxpy as cp"
   ]
  },
  {
   "cell_type": "markdown",
   "metadata": {},
   "source": [
    "Table for Calories, Vitamin A, Cost"
   ]
  },
  {
   "cell_type": "code",
   "execution_count": 2,
   "metadata": {},
   "outputs": [],
   "source": [
    "cal = np.matrix([72, 121, 65])\n",
    "vitA = np.matrix([107, 500, 0])\n",
    "cost = np.matrix([0.18, 0.23, 0.05])"
   ]
  },
  {
   "cell_type": "markdown",
   "metadata": {},
   "source": [
    "Defining the Variable and the Objective"
   ]
  },
  {
   "cell_type": "code",
   "execution_count": 3,
   "metadata": {},
   "outputs": [],
   "source": [
    "# Our Variable for quantities of each food item which need to be an integer\n",
    "s = cp.Variable((3,1), integer = True)\n",
    "\n",
    "# Function which returns the Cost of the Entire Meal\n",
    "def CostMeal(p):\n",
    "    return (cost@p)\n",
    "\n",
    "# Our Objective is to minimize the cost of the entire meal that is bought\n",
    "MyObjective = cp.Minimize(cp.matmul(cost, s))"
   ]
  },
  {
   "cell_type": "markdown",
   "metadata": {},
   "source": [
    "Defining the Constraints and Solving the Problem"
   ]
  },
  {
   "cell_type": "code",
   "execution_count": 4,
   "metadata": {},
   "outputs": [
    {
     "name": "stdout",
     "output_type": "stream",
     "text": [
      "Optimal Serving:  [[ 2.]\n",
      " [10.]\n",
      " [10.]]\n",
      "Optimal Cost:  [[3.16]]\n"
     ]
    }
   ],
   "source": [
    "# The constraints given for quantity of serving, amount of calories, amount of vitamin A\n",
    "MyConstraints = [\n",
    "    s >= 0, \n",
    "    s <= 10, \n",
    "    cp.matmul(cal, s) >= 2000, \n",
    "    cp.matmul(cal, s) <= 2250, \n",
    "    cp.matmul(vitA, s) >= 5000, \n",
    "    cp.matmul(vitA, s) <= 50000\n",
    "]\n",
    "\n",
    "# Solving the Convex Optimization\n",
    "prob = cp.Problem(MyObjective, MyConstraints)\n",
    "prob.solve()\n",
    "\n",
    "# Printing the Optimal Serving and the Cost\n",
    "print(\"Optimal Serving: \", s.value)\n",
    "print(\"Optimal Cost: \", CostMeal(s.value))"
   ]
  },
  {
   "cell_type": "code",
   "execution_count": 9,
   "metadata": {},
   "outputs": [
    {
     "name": "stdout",
     "output_type": "stream",
     "text": [
      "Serving of Corn: 2.0\n",
      "Serving of Milk: 10.0\n",
      "Serving of Bread: 10.0\n",
      "Cost of Serving: 3.16\n"
     ]
    }
   ],
   "source": [
    "print(\"Serving of Corn: {}\".format(s[0,0].value))\n",
    "print(\"Serving of Milk: {}\".format(s[1,0].value))\n",
    "print(\"Serving of Bread: {}\".format(s[2,0].value))\n",
    "print(\"Cost of Serving: {}\".format(np.sum(CostMeal(s.value))))"
   ]
  }
 ],
 "metadata": {
  "interpreter": {
   "hash": "08d3eecb2fabbb0c5d31990520f98cd04f9a92388665ee41436dce04fb0533ac"
  },
  "kernelspec": {
   "display_name": "Python 3.9.0 64-bit",
   "language": "python",
   "name": "python3"
  },
  "language_info": {
   "codemirror_mode": {
    "name": "ipython",
    "version": 3
   },
   "file_extension": ".py",
   "mimetype": "text/x-python",
   "name": "python",
   "nbconvert_exporter": "python",
   "pygments_lexer": "ipython3",
   "version": "3.9.0"
  },
  "orig_nbformat": 4
 },
 "nbformat": 4,
 "nbformat_minor": 2
}
