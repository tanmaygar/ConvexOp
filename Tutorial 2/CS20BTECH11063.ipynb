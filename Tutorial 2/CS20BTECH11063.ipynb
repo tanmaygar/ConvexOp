{
 "cells": [
  {
   "cell_type": "markdown",
   "metadata": {},
   "source": [
    "# Convex Optimization\n",
    "## Tutorial 2\n",
    "### Tanmay Garg CS20BTECH11063"
   ]
  },
  {
   "cell_type": "code",
   "execution_count": 1,
   "metadata": {},
   "outputs": [],
   "source": [
    "#Importing required Libraries\n",
    "import numpy as np\n",
    "import matplotlib.pyplot as plt\n",
    "import cvxpy as cp"
   ]
  },
  {
   "cell_type": "code",
   "execution_count": 2,
   "metadata": {},
   "outputs": [],
   "source": [
    "#Importing data from python file\n",
    "from currency_exchange_data import *"
   ]
  },
  {
   "cell_type": "code",
   "execution_count": 3,
   "metadata": {},
   "outputs": [
    {
     "name": "stdout",
     "output_type": "stream",
     "text": [
      "Total Number of Currencies n:  10\n",
      "Initial Number of Currencies: \n",
      "[1818.18181818 1636.36363636 1454.54545455 1272.72727273 1090.90909091\n",
      "  909.09090909  727.27272727  545.45454545  363.63636364  181.81818182]\n",
      "Required Number of Currencies: \n",
      "[ 181.81818182  363.63636364  545.45454545  727.27272727  909.09090909\n",
      " 1090.90909091 1272.72727273 1454.54545455 1636.36363636 1818.18181818]\n"
     ]
    }
   ],
   "source": [
    "print(\"Total Number of Currencies n: \", n)\n",
    "print(\"Initial Number of Currencies: \")\n",
    "print(c_init)\n",
    "print(\"Required Number of Currencies: \")\n",
    "print(c_req)\n",
    "\n",
    "#Variable X\n",
    "# X = cp.Variable((n,n), integer = True)\n",
    "X = cp.Variable((n,n))\n",
    "\n",
    "#post exchange amount of currencies\n",
    "pea = c_init - (X.T)@(np.ones(n)) + (X/F)@(np.ones(n))\n",
    "\n",
    "#cost of exchange of currencies\n",
    "#coe = np.sum((c_init - pea)@(np.sqrt(F[0:None, 0] / F[0, 0:None])))\n",
    "coe = (c_init - pea)@(np.sqrt(F[0:None, 0] / F[0, 0:None]))\n"
   ]
  },
  {
   "cell_type": "code",
   "execution_count": 4,
   "metadata": {},
   "outputs": [],
   "source": [
    "#Objective is to minimize the cost of exchange i.e. coe\n",
    "MyObjective = cp.Minimize(coe)\n",
    "\n",
    "#The constraints given in the question\n",
    "MyConstraint = [\n",
    "    X >= 0,\n",
    "    cp.diag(X) == 0,\n",
    "    c_init >= (X.T)@(np.ones(n)),\n",
    "    pea >= c_req\n",
    "]"
   ]
  },
  {
   "cell_type": "code",
   "execution_count": 5,
   "metadata": {},
   "outputs": [],
   "source": [
    "# Solving the Convex Optimization\n",
    "prob = cp.Problem(MyObjective, MyConstraint)\n",
    "value = prob.solve()"
   ]
  },
  {
   "cell_type": "code",
   "execution_count": 6,
   "metadata": {},
   "outputs": [
    {
     "name": "stdout",
     "output_type": "stream",
     "text": [
      "The minimum cost of exchange in USD:  7.720059340057868\n"
     ]
    }
   ],
   "source": [
    "print(\"The minimum cost of exchange in USD: \", value)"
   ]
  },
  {
   "cell_type": "code",
   "execution_count": 7,
   "metadata": {},
   "outputs": [],
   "source": [
    "# a = (X.T)@(np.ones(n))\n",
    "# print(a.value)\n",
    "# print(pea.value)"
   ]
  },
  {
   "cell_type": "code",
   "execution_count": 8,
   "metadata": {},
   "outputs": [
    {
     "name": "stdout",
     "output_type": "stream",
     "text": [
      "The value of each currency exchanged: \n",
      "[560.69   0.     0.   545.45 181.82   0.   727.27 369.09   0.   181.82]\n",
      "Post exchange amount of currency: \n",
      "[1257.5  1636.36 1771.67  727.27  909.09 1090.91 1272.73 1454.55 1636.36\n",
      " 1818.18]\n",
      "The value of X: \n",
      "[[  0.     0.     0.     0.     0.     0.     0.     0.     0.     0.  ]\n",
      " [  0.     0.     0.     0.     0.     0.     0.     0.     0.     0.  ]\n",
      " [  0.     0.     0.   545.45   0.     0.     0.     0.     0.     0.  ]\n",
      " [  0.     0.     0.     0.     0.     0.     0.     0.     0.     0.  ]\n",
      " [  0.     0.     0.     0.     0.     0.     0.     0.     0.     0.  ]\n",
      " [ 16.5    0.     0.     0.     0.     0.   727.27   0.     0.     0.  ]\n",
      " [  0.     0.     0.     0.     0.     0.     0.   369.09   0.     0.  ]\n",
      " [ 15.69   0.     0.     0.   181.82   0.     0.     0.     0.   181.82]\n",
      " [ 18.52   0.     0.     0.     0.     0.     0.     0.     0.     0.  ]\n",
      " [509.98   0.     0.     0.     0.     0.     0.     0.     0.     0.  ]]\n"
     ]
    }
   ],
   "source": [
    "print(\"The value of each currency exchanged: \")\n",
    "# print(np.rint(((X.T)@(np.ones(n))).value))\n",
    "print(np.round(((X.T)@(np.ones(n))).value, 2))\n",
    "\n",
    "\n",
    "print(\"Post exchange amount of currency: \")\n",
    "# print(np.rint(pea.value))\n",
    "print(np.round(pea.value, 2))\n",
    "\n",
    "\n",
    "print(\"The value of X: \")\n",
    "print(np.round(X.value, 2))\n",
    "# print(X.value)"
   ]
  }
 ],
 "metadata": {
  "interpreter": {
   "hash": "08d3eecb2fabbb0c5d31990520f98cd04f9a92388665ee41436dce04fb0533ac"
  },
  "kernelspec": {
   "display_name": "Python 3.9.0 64-bit",
   "language": "python",
   "name": "python3"
  },
  "language_info": {
   "codemirror_mode": {
    "name": "ipython",
    "version": 3
   },
   "file_extension": ".py",
   "mimetype": "text/x-python",
   "name": "python",
   "nbconvert_exporter": "python",
   "pygments_lexer": "ipython3",
   "version": "3.9.0"
  },
  "orig_nbformat": 4
 },
 "nbformat": 4,
 "nbformat_minor": 2
}
