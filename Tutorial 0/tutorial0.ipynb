{
 "cells": [
  {
   "cell_type": "code",
   "execution_count": 15,
   "metadata": {},
   "outputs": [],
   "source": [
    "import numpy as np\n",
    "import matplotlib.pyplot as plt\n",
    "import cvxpy as cp\n",
    "n = 10\n",
    "m = 5\n",
    "A = np.random.rand(n, m)\n",
    "def Penalty(p):\n",
    "    return np.max(np.abs(np.log(A@p)))"
   ]
  },
  {
   "cell_type": "code",
   "execution_count": 16,
   "metadata": {},
   "outputs": [
    {
     "name": "stdout",
     "output_type": "stream",
     "text": [
      "Optimal Powers:  [0.03577773 0.06483471 0.66205147 0.22639932 0.9283565 ]\n",
      "Optimal Penalty:  0.3682365079172462\n"
     ]
    }
   ],
   "source": [
    "# Solution to Objective in Penalty\n",
    "p = cp.Variable(m)\n",
    "constraints = [p >= 0, p <= 1]\n",
    "Objective = cp.Minimize(cp.max(cp.maximum(A@p, cp.inv_pos(A@p))))\n",
    "prob = cp.Problem(Objective, constraints)\n",
    "prob.solve()\n",
    "print(\"Optimal Powers: \", p.value)\n",
    "print(\"Optimal Penalty: \", Penalty(p.value))"
   ]
  },
  {
   "cell_type": "code",
   "execution_count": 22,
   "metadata": {},
   "outputs": [
    {
     "name": "stdout",
     "output_type": "stream",
     "text": [
      "Optimal Powers:  [0.2548641  0.         0.46603128 0.79158714 0.35378349]\n",
      "Optimal Penalty:  0.5668591424425883\n"
     ]
    }
   ],
   "source": [
    "# Least Square approx\n",
    "p = cp.Variable(m)\n",
    "constraints = [p >= 0, p <= 1]\n",
    "Objective = cp.Minimize(cp.sum_squares(A@p - np.ones((n,))))\n",
    "prob = cp.Problem(Objective)\n",
    "prob.solve()\n",
    "clipped_powers = np.clip(p.value, 0, 1)\n",
    "\n",
    "print(\"Optimal Powers: \", clipped_powers)\n",
    "print(\"Optimal Penalty: \", Penalty(clipped_powers))"
   ]
  }
 ],
 "metadata": {
  "interpreter": {
   "hash": "08d3eecb2fabbb0c5d31990520f98cd04f9a92388665ee41436dce04fb0533ac"
  },
  "kernelspec": {
   "display_name": "Python 3.9.0 64-bit",
   "language": "python",
   "name": "python3"
  },
  "language_info": {
   "codemirror_mode": {
    "name": "ipython",
    "version": 3
   },
   "file_extension": ".py",
   "mimetype": "text/x-python",
   "name": "python",
   "nbconvert_exporter": "python",
   "pygments_lexer": "ipython3",
   "version": "3.9.0"
  },
  "orig_nbformat": 4
 },
 "nbformat": 4,
 "nbformat_minor": 2
}
