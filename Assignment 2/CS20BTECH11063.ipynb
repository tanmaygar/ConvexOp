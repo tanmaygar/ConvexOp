{
 "cells": [
  {
   "cell_type": "markdown",
   "metadata": {},
   "source": [
    "# Convex Optimization\n",
    "\n",
    "### Tanmay Garg CS20BTECH11063"
   ]
  },
  {
   "cell_type": "code",
   "execution_count": null,
   "metadata": {},
   "outputs": [],
   "source": []
  },
  {
   "cell_type": "code",
   "execution_count": 2,
   "metadata": {},
   "outputs": [],
   "source": [
    "#Importing required Libraries\n",
    "import numpy as np\n",
    "import matplotlib.pyplot as plt\n",
    "import cvxpy as cp\n",
    "import math"
   ]
  },
  {
   "cell_type": "code",
   "execution_count": 7,
   "metadata": {},
   "outputs": [
    {
     "name": "stdout",
     "output_type": "stream",
     "text": [
      "7.444444444444442\n",
      "[[-2.33333333]\n",
      " [-0.16666667]]\n"
     ]
    }
   ],
   "source": [
    "P = np.matrix('1 -0.5; -0.5 2')\n",
    "Q = np.matrix('-1 0')\n",
    "x = cp.Variable((2,1))\n",
    "Obj = cp.Minimize(cp.quad_form(x, P) + Q@x)\n",
    "cons = [\n",
    "    np.matrix('1 -2; 1 4')@x <= np.matrix('-2 ;-3'),\n",
    "    np.matrix('5 -76')@x <= 1\n",
    "]\n",
    "prob = cp.Problem(Obj, cons).solve()\n",
    "print(prob)\n",
    "print(x.value)"
   ]
  },
  {
   "cell_type": "code",
   "execution_count": 4,
   "metadata": {},
   "outputs": [
    {
     "name": "stdout",
     "output_type": "stream",
     "text": [
      "[[ 3.94444442e+00]\n",
      " [ 1.55555555e+00]\n",
      " [-2.19035271e-14]]\n"
     ]
    }
   ],
   "source": [
    "P = np.matrix('1 -0.5; -0.5 2')\n",
    "Q = np.matrix('-1 0')\n",
    "A = np.matrix('1 -2; 1 4; 5 -76')\n",
    "b = np.matrix('-2 ;-3; 1')\n",
    "lambd = cp.Variable((3,1))\n",
    "x_opt = -0.5*np.linalg.inv(P)@(A.T@lambd+Q.T)\n",
    "# print(x_opt.shape)\n",
    "Obj = cp.Minimize(cp.quad_form(x_opt, P) + Q@x_opt)\n",
    "cons = [\n",
    "    # np.matrix('1 -2; 1 4; 5 -76')@x_opt <= np.matrix('-2 ;-3; 1'),\n",
    "    A@x_opt <= b,\n",
    "    lambd >= 0,\n",
    "    lambd[2] == 0\n",
    "]\n",
    "prob = cp.Problem(Obj, cons).solve()\n",
    "print(lambd.value)"
   ]
  },
  {
   "cell_type": "code",
   "execution_count": 11,
   "metadata": {},
   "outputs": [
    {
     "data": {
      "image/png": "[encoded data removed]",
      "text/plain": [
       "<Figure size 432x288 with 1 Axes>"
      ]
     },
     "metadata": {
      "needs_background": "light"
     },
     "output_type": "display_data"
    }
   ],
   "source": [
    "x = np.arange(-10, 10, 0.1)\n",
    "y = np.arange(-10, 10, 0.1)\n",
    "[X, Y] = np.meshgrid(x, y)\n",
    "fig, ax = plt.subplots(1, 1)\n",
    "Z = (11*X**2+2*Y**2+5*X*Y-6*Y-12*X)/18\n",
    "ax.contourf(X, Y, Z)\n",
    "  \n",
    "ax.set_title('Contour Plot')\n",
    "ax.set_xlabel('x')\n",
    "ax.set_ylabel('y')\n",
    "  \n",
    "plt.show()"
   ]
  },
  {
   "cell_type": "code",
   "execution_count": 8,
   "metadata": {},
   "outputs": [
    {
     "name": "stdout",
     "output_type": "stream",
     "text": [
      "7.444444444444445\n",
      "-3.9438333333334796\n",
      "-1.5554444444445537\n"
     ]
    }
   ],
   "source": [
    "X = -2\n",
    "Y = -3\n",
    "Z1 = (11*X**2+2*Y**2+5*X*Y-6*Y-12*X)/18\n",
    "print(Z1)\n",
    "\n",
    "X = -2 + 0.001\n",
    "Y = -3\n",
    "Z2 = (11*X**2+2*Y**2+5*X*Y-6*Y-12*X)/18\n",
    "\n",
    "X = -2 \n",
    "Y = -3 + 0.001\n",
    "Z3 = (11*X**2+2*Y**2+5*X*Y-6*Y-12*X)/18\n",
    "\n",
    "pd_y = (Z3-Z1)/0.001\n",
    "pd_x = (Z2-Z1)/0.001\n",
    "print(pd_x)\n",
    "print(pd_y)"
   ]
  }
 ],
 "metadata": {
  "interpreter": {
   "hash": "08d3eecb2fabbb0c5d31990520f98cd04f9a92388665ee41436dce04fb0533ac"
  },
  "kernelspec": {
   "display_name": "Python 3.9.0 64-bit",
   "language": "python",
   "name": "python3"
  },
  "language_info": {
   "codemirror_mode": {
    "name": "ipython",
    "version": 3
   },
   "file_extension": ".py",
   "mimetype": "text/x-python",
   "name": "python",
   "nbconvert_exporter": "python",
   "pygments_lexer": "ipython3",
   "version": "3.9.12"
  },
  "orig_nbformat": 4
 },
 "nbformat": 4,
 "nbformat_minor": 2
}
