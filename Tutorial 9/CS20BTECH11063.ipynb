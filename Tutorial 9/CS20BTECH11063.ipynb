{
 "cells": [
  {
   "cell_type": "markdown",
   "metadata": {},
   "source": [
    "# Convex Optimization\n",
    "## Tutorial 9\n",
    "### Tanmay Garg CS20BTECH11063"
   ]
  },
  {
   "cell_type": "code",
   "execution_count": 9,
   "metadata": {},
   "outputs": [],
   "source": [
    "#Importing required Libraries\n",
    "import numpy as np\n",
    "import matplotlib.pyplot as plt\n",
    "import cvxpy as cp\n",
    "import math"
   ]
  },
  {
   "cell_type": "code",
   "execution_count": 10,
   "metadata": {},
   "outputs": [],
   "source": [
    "# Gain matrix\n",
    "G = np.matrix(( [1, 0.1, 0.2, 0.1, 0],\n",
    "                [0.1, 1, 0.1, 0.1, 0],\n",
    "                [0.2, 0.1, 2, 0.2, 0.2],\n",
    "                [0.1, 0.1, 0.2, 1, 0.1],\n",
    "                [0, 0, 0.2, 0.1, 1]))\n",
    "\n",
    "# Number of transmitters\n",
    "n = 5\n",
    "\n",
    "#Gain matrix for Calculating Signal Power\n",
    "G_for_Signal_Mat = np.multiply(G, np.identity(n))\n",
    "\n",
    "#Gain Matrix for Calculating Interference Power\n",
    "G_for_Inter_Mat = G - G_for_Signal_Mat\n",
    "\n",
    "#Matrix for getting groups of transmitters\n",
    "groups = np.matrix(([1, 1, 0, 0, 0], \n",
    "                    [0, 0, 1, 1, 1]))\n",
    "\n",
    "#Maximum power of each group\n",
    "groups_max_val = np.matrix(([4,6]))\n",
    "groups_max_val = np.reshape(groups_max_val, (2,1))\n",
    "\n",
    "#Maximum Power for each transmitter\n",
    "P_max = 3 * np.ones((n,1))\n",
    "P_max = np.reshape(P_max, (n,1))\n",
    "\n",
    "#Maximum Power for each receiver\n",
    "P_rc = 5 * np.ones((n,1))\n",
    "\n",
    "alpha = cp.Parameter(1)\n",
    "\n",
    "#Self Noise Power\n",
    "sigma = 0.5 * np.ones((n,1))\n"
   ]
  },
  {
   "cell_type": "code",
   "execution_count": 11,
   "metadata": {},
   "outputs": [],
   "source": [
    "p = cp.Variable((n,1))\n",
    "# Upper Bound\n",
    "u = 1e4\n",
    "# Lower Bound\n",
    "l = 0"
   ]
  },
  {
   "cell_type": "code",
   "execution_count": 12,
   "metadata": {},
   "outputs": [],
   "source": [
    "MyObjective = cp.Minimize(alpha)\n",
    "\n",
    "MyConstraints = [\n",
    "    p >= 0,\n",
    "    p <= P_max,\n",
    "    G@p <= P_rc,\n",
    "    (groups)@p <= groups_max_val,\n",
    "    G_for_Inter_Mat@p + sigma <= alpha*G_for_Signal_Mat@p\n",
    "]\n",
    "MyProblem = cp.Problem(MyObjective, MyConstraints)\n"
   ]
  },
  {
   "cell_type": "code",
   "execution_count": 13,
   "metadata": {},
   "outputs": [
    {
     "name": "stdout",
     "output_type": "stream",
     "text": [
      "None\n",
      "optimal\n",
      "optimal\n",
      "optimal\n",
      "optimal\n",
      "optimal\n",
      "optimal\n",
      "optimal\n",
      "optimal\n",
      "optimal\n",
      "optimal\n",
      "optimal\n",
      "optimal\n",
      "optimal\n",
      "optimal\n",
      "infeasible\n",
      "infeasible\n",
      "infeasible\n",
      "infeasible\n",
      "infeasible\n",
      "optimal\n",
      "optimal\n"
     ]
    }
   ],
   "source": [
    "# alpha.value = [u]\n",
    "# MyProblem = cp.Problem(MyObjective, MyConstraints)\n",
    "# MyProblem.solve()\n",
    "\n",
    "# alpha.value = [l]\n",
    "# MyProblem = cp.Problem(MyObjective, MyConstraints)\n",
    "# MyProblem.solve()\n",
    "\n",
    "for i in range(1, 10000):\n",
    "    alpha.value = np.atleast_1d(((u + l)/2.0))\n",
    "    # tmp = (u+l)/2.0\n",
    "    # alpha.value = np.array([tmp])\n",
    "    # tmp = np.ones((1,))\n",
    "    # tmp[0] = (u+l/2.0)\n",
    "    # print(tmp.shape)\n",
    "    # print(tmp)\n",
    "    # alpha.value = tmp\n",
    "    print(MyProblem.status)\n",
    "    if u - l <= 0.005:\n",
    "        break\n",
    "    MyProblem = cp.Problem(MyObjective, MyConstraints)\n",
    "    MyProblem.solve()\n",
    "    \n",
    "    if MyProblem.status == 'optimal':\n",
    "        u = alpha.value\n",
    "    else:\n",
    "        l = alpha.value\n",
    "\n",
    "\n"
   ]
  },
  {
   "cell_type": "code",
   "execution_count": 14,
   "metadata": {},
   "outputs": [
    {
     "name": "stdout",
     "output_type": "stream",
     "text": [
      "SINR Value: [1.68445944]\n",
      "Value of powers for transmitters: \n",
      "[[2.10756611]\n",
      " [1.88019374]\n",
      " [1.64000272]\n",
      " [2.37664543]\n",
      " [1.84235581]]\n"
     ]
    }
   ],
   "source": [
    "print(\"SINR Value: {}\".format(1/alpha.value))\n",
    "print(\"Value of powers for transmitters: \")\n",
    "print(p.value)\n"
   ]
  }
 ],
 "metadata": {
  "interpreter": {
   "hash": "08d3eecb2fabbb0c5d31990520f98cd04f9a92388665ee41436dce04fb0533ac"
  },
  "kernelspec": {
   "display_name": "Python 3.9.0 64-bit",
   "language": "python",
   "name": "python3"
  },
  "language_info": {
   "codemirror_mode": {
    "name": "ipython",
    "version": 3
   },
   "file_extension": ".py",
   "mimetype": "text/x-python",
   "name": "python",
   "nbconvert_exporter": "python",
   "pygments_lexer": "ipython3",
   "version": "3.9.0"
  },
  "orig_nbformat": 4
 },
 "nbformat": 4,
 "nbformat_minor": 2
}
