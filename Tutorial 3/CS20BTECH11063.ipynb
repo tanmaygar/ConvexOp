{
 "cells": [
  {
   "cell_type": "markdown",
   "metadata": {},
   "source": [
    "# Convex Optimization\n",
    "## Tutorial 3\n",
    "### Tanmay Garg CS20BTECH11063"
   ]
  },
  {
   "cell_type": "code",
   "execution_count": 1,
   "metadata": {},
   "outputs": [],
   "source": [
    "#Importing required Libraries\n",
    "import numpy as np\n",
    "import matplotlib.pyplot as plt\n",
    "import cvxpy as cp"
   ]
  },
  {
   "cell_type": "code",
   "execution_count": 2,
   "metadata": {},
   "outputs": [],
   "source": [
    "#Importing data from python file\n",
    "from expense_stream_data import *"
   ]
  },
  {
   "cell_type": "code",
   "execution_count": 3,
   "metadata": {},
   "outputs": [],
   "source": [
    "# Given to us in file are the variables\n",
    "# m, n, P, e, rho\n",
    "# to find b, w, x\n",
    "b = cp.Variable((n, 1))\n",
    "w = cp.Variable((n, 1))\n",
    "x = cp.Variable((m, 1))\n"
   ]
  },
  {
   "cell_type": "code",
   "execution_count": 4,
   "metadata": {},
   "outputs": [],
   "source": [
    "sum_with_invest = w + cp.matmul(P, x)"
   ]
  },
  {
   "cell_type": "code",
   "execution_count": 5,
   "metadata": {},
   "outputs": [],
   "source": [
    "MyObjective = cp.Minimize(b[0] + np.ones(m)@x)\n",
    "# MyObjective = cp.Minimize(b[0] + cp.sum(x))\n",
    "\n",
    "#The constraints given in the question\n",
    "MyConstraint = [\n",
    "    b >= 0,     #given in question\n",
    "    x >= 0,     #given in question\n",
    "    w >= 0,    \n",
    "    sum_with_invest >= e\n",
    "]"
   ]
  },
  {
   "cell_type": "code",
   "execution_count": 6,
   "metadata": {},
   "outputs": [],
   "source": [
    "# Constraint for b vector given in question\n",
    "for t in range(n-1):\n",
    "    MyConstraint += [\n",
    "        b[t + 1] - (1 + rho)*b[t] + w[t] == 0\n",
    "        ]"
   ]
  },
  {
   "cell_type": "code",
   "execution_count": 7,
   "metadata": {},
   "outputs": [
    {
     "name": "stdout",
     "output_type": "stream",
     "text": [
      "Total amount we invest:  197.91922192857712\n"
     ]
    }
   ],
   "source": [
    "# Solving the Convex Optimization\n",
    "prob = cp.Problem(MyObjective, MyConstraint)\n",
    "value = prob.solve()\n",
    "print(\"Total amount we invest: \",value)"
   ]
  },
  {
   "cell_type": "code",
   "execution_count": 8,
   "metadata": {},
   "outputs": [],
   "source": [
    "# MyConstraint += [x == 0]\n",
    "# prob = cp.Problem(MyObjective, MyConstraint)\n",
    "# value = prob.solve()\n",
    "# print(\"Total amount we invest: \",value)"
   ]
  }
 ],
 "metadata": {
  "interpreter": {
   "hash": "08d3eecb2fabbb0c5d31990520f98cd04f9a92388665ee41436dce04fb0533ac"
  },
  "kernelspec": {
   "display_name": "Python 3.9.0 64-bit",
   "language": "python",
   "name": "python3"
  },
  "language_info": {
   "codemirror_mode": {
    "name": "ipython",
    "version": 3
   },
   "file_extension": ".py",
   "mimetype": "text/x-python",
   "name": "python",
   "nbconvert_exporter": "python",
   "pygments_lexer": "ipython3",
   "version": "3.9.0"
  },
  "orig_nbformat": 4
 },
 "nbformat": 4,
 "nbformat_minor": 2
}
