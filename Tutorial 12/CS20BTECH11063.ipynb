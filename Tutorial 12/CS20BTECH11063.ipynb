{
 "cells": [
  {
   "cell_type": "markdown",
   "metadata": {},
   "source": [
    "# Convex Optimization\n",
    "## Tutorial 12\n",
    "### Tanmay Garg CS20BTECH11063"
   ]
  },
  {
   "cell_type": "code",
   "execution_count": 1,
   "metadata": {},
   "outputs": [],
   "source": [
    "#Importing required Libraries\n",
    "import numpy as np\n",
    "import matplotlib.pyplot as plt\n",
    "import cvxpy as cp\n",
    "import math"
   ]
  },
  {
   "cell_type": "markdown",
   "metadata": {},
   "source": [
    "## (a)\n",
    "The function is convex because $c^Tx$ is linear hence it is convex. $f_{0}(x)$ is max or sup of convex functions, hence it is also convex"
   ]
  },
  {
   "cell_type": "markdown",
   "metadata": {},
   "source": [
    "## (b), (c)\n",
    "### Constructing F and g\n",
    "\n",
    "$$ \n",
    "\n",
    "F = \\begin{bmatrix}\n",
    "    I_{n\\times n}\\\\\n",
    "    -I_{n\\times n}\\\\\n",
    "    \\vec{1}^T\\vec{c}\\\\\n",
    "    -\\vec{1}^T\\vec{c}\n",
    "    \\end{bmatrix}\n",
    "$$\n",
    "$$\n",
    "g = \\begin{bmatrix}\n",
    "    1.25 c_{nom}\\\\\n",
    "    -0.75 c_{nom}\\\\\n",
    "    \\vec{1}^Tc_{nom}\\\\\n",
    "    -\\vec{1}^Tc_{nom}\n",
    "    \\end{bmatrix}\n",
    "$$\n",
    "\n",
    "### Dual Problem\n",
    "The dual problem will be\n",
    "$$ \\underset{c}{inf} \\quad c^Tx + \\lambda^TFc - \\lambda^Tg $$\n",
    "such that \n",
    "$$ \n",
    "\\lambda \\geq 0\n",
    "$$\n",
    "\n",
    "\n",
    "### Final LP of the dual form is\n",
    "The convex problem will be\n",
    "$$ \\underset{x, \\lambda}{min} \\quad \\lambda^Tg $$\n",
    "such that \n",
    "$$ \n",
    "F^T\\lambda = x \\\\\n",
    "\\lambda \\geq 0\\\\\n",
    "Ax \\geq b\n",
    "$$\n",
    "\n",
    "Primal problem is feasible, so the dual problem should also be feasible as strong duality holds here as it is an LP problem (affine). Hence optimal value of primal and dual are same"
   ]
  },
  {
   "cell_type": "code",
   "execution_count": 2,
   "metadata": {},
   "outputs": [],
   "source": [
    "np.random.seed(10)\n",
    "(m, n) = (30, 10)\n",
    "A = np.random.rand(m, n)\n",
    "A = np.asmatrix(A)\n",
    "b = np.random.rand(m, 1)\n",
    "b = np.asmatrix(b)\n",
    "c_nom = np.ones((n, 1)) + np.random.rand(n, 1)\n",
    "c_nom = np.asmatrix(c_nom)\n",
    "\n",
    "# print(c_nom)"
   ]
  },
  {
   "cell_type": "code",
   "execution_count": 3,
   "metadata": {},
   "outputs": [],
   "source": [
    "# import prettytable\n",
    "# from prettytable import PrettyTable\n",
    "# import pandas as pd"
   ]
  },
  {
   "cell_type": "code",
   "execution_count": 4,
   "metadata": {},
   "outputs": [],
   "source": [
    "F = np.hstack((np.identity(n), -np.identity(n), np.ones((n, 1)), -np.ones((n, 1))))\n",
    "F = F.T\n",
    "\n",
    "# print(F)\n",
    "# print(pd.DataFrame(F))\n",
    "# g = np.vstack((1.25*c_nom, -0.75*c_nom, 1.1*np.sum(c_nom)/n, -0.9*np.sum(c_nom)/n))\n",
    "\n",
    "g = np.vstack((1.25*c_nom, -0.75*c_nom, 1.1*np.sum(c_nom), -0.9*np.sum(c_nom)))\n",
    "\n",
    "lambd = cp.Variable(g.shape)\n",
    "x = cp.Variable((n,1))\n",
    "\n",
    "# print(F.shape)\n",
    "# print(lambd.shape)\n",
    "# print(g.shape)"
   ]
  },
  {
   "cell_type": "code",
   "execution_count": 5,
   "metadata": {},
   "outputs": [],
   "source": [
    "# print(F)"
   ]
  },
  {
   "cell_type": "code",
   "execution_count": 6,
   "metadata": {},
   "outputs": [],
   "source": [
    "# print(g)"
   ]
  },
  {
   "cell_type": "code",
   "execution_count": 7,
   "metadata": {},
   "outputs": [],
   "source": [
    "MyConstraints = [\n",
    "    A@x >= b,\n",
    "    F.T@lambd == x,\n",
    "    lambd >= 0\n",
    "]\n",
    "\n",
    "MyProblem = cp.Problem(cp.Minimize(lambd.T @ g), MyConstraints)\n",
    "value = MyProblem.solve()\n",
    "# print(value)\n",
    "\n",
    "robust_x_val = x.value"
   ]
  },
  {
   "cell_type": "code",
   "execution_count": 8,
   "metadata": {},
   "outputs": [],
   "source": [
    "new_x_var = cp.Variable((n,1))\n",
    "MyConstraints_part2 = [\n",
    "    A@new_x_var >= b\n",
    "]\n",
    "\n",
    "MyProblem2 = cp.Problem(cp.Minimize(c_nom.T@new_x_var), MyConstraints_part2)\n",
    "value2 = MyProblem2.solve()\n",
    "\n",
    "# print(value2)\n",
    "new_x_val = new_x_var.value"
   ]
  },
  {
   "cell_type": "code",
   "execution_count": 9,
   "metadata": {},
   "outputs": [],
   "source": [
    "c = cp.Variable((n,1))\n",
    "MyConstraints_part3 = [\n",
    "    F@c <= g\n",
    "]\n",
    "\n",
    "worst_case_cost_f_robust = cp.Problem(cp.Maximize(c.T@robust_x_val), MyConstraints_part3).solve()\n",
    "worst_case_cost_f_normal = cp.Problem(cp.Maximize(c.T@new_x_val), MyConstraints_part3).solve()"
   ]
  },
  {
   "cell_type": "code",
   "execution_count": 10,
   "metadata": {},
   "outputs": [],
   "source": [
    "# print(c_nom.T@robust_x_val)\n",
    "# print(c_nom.T@new_x_val)"
   ]
  },
  {
   "cell_type": "code",
   "execution_count": 11,
   "metadata": {},
   "outputs": [
    {
     "name": "stdout",
     "output_type": "stream",
     "text": [
      "The worst case cost of f(x) in case of robust is:  3.1659610511015486\n",
      "The worst case cost of f(x) in case of nominal is:  7.221562200521366\n",
      "The nominal cost in robust case:  2.5232088648898556\n",
      "The nominal cost in nominal case:  2.1092714620825994\n"
     ]
    }
   ],
   "source": [
    "print(\"The worst case cost of f(x) in case of robust is: \", worst_case_cost_f_robust)\n",
    "print(\"The worst case cost of f(x) in case of nominal is: \", worst_case_cost_f_normal)\n",
    "nominal_cost_robust = c_nom.T@robust_x_val\n",
    "print(\"The nominal cost in robust case: \", (c_nom.T@robust_x_val)[0,0])\n",
    "print(\"The nominal cost in nominal case: \", (c_nom.T@new_x_val)[0,0])"
   ]
  },
  {
   "cell_type": "markdown",
   "metadata": {},
   "source": [
    "In robust case the nominal cost is slightly greater than the nominal cost in nominal case and the worst case cost in robust is less than that of nominal case due to in robust case we are looking at a set of values and it chooses the value which fits the optimization problem the best while in nominal case it looks at only one value"
   ]
  }
 ],
 "metadata": {
  "interpreter": {
   "hash": "08d3eecb2fabbb0c5d31990520f98cd04f9a92388665ee41436dce04fb0533ac"
  },
  "kernelspec": {
   "display_name": "Python 3.9.0 64-bit",
   "language": "python",
   "name": "python3"
  },
  "language_info": {
   "codemirror_mode": {
    "name": "ipython",
    "version": 3
   },
   "file_extension": ".py",
   "mimetype": "text/x-python",
   "name": "python",
   "nbconvert_exporter": "python",
   "pygments_lexer": "ipython3",
   "version": "3.9.12"
  },
  "orig_nbformat": 4
 },
 "nbformat": 4,
 "nbformat_minor": 2
}
