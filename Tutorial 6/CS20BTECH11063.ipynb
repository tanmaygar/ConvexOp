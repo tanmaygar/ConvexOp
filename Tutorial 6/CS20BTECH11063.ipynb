{
 "cells": [
  {
   "cell_type": "markdown",
   "metadata": {},
   "source": [
    "# Convex Optimization\n",
    "## Tutorial 6\n",
    "### Tanmay Garg CS20BTECH11063"
   ]
  },
  {
   "cell_type": "code",
   "execution_count": 84,
   "metadata": {},
   "outputs": [],
   "source": [
    "#Importing required Libraries\n",
    "import numpy as np\n",
    "import matplotlib.pyplot as plt\n",
    "import cvxpy as cp"
   ]
  },
  {
   "cell_type": "code",
   "execution_count": 85,
   "metadata": {},
   "outputs": [],
   "source": [
    "#Vector to denote the amount ideal production in entire day for each product\n",
    "IdealProduceable = np.matrix('6000.0 5000.0 3000.0')\n",
    "IdealProduceable = IdealProduceable.T\n",
    "\n",
    "#Vector to denote the profit made on each\n",
    "Profits = np.matrix('4 6 10')\n",
    "Profits = Profits.T\n",
    "\n",
    "#Storage space for each product\n",
    "Storage = np.matrix('40 45 210')\n",
    "Storage = (Storage.T)/1000\n",
    "\n",
    "#Vector to denote the minimum amount of demand for each product\n",
    "MinDelivered = np.matrix('5000 0 4000')\n",
    "MinDelivered = MinDelivered.T\n",
    "\n",
    "#Vector to denote the maximum amount of demand for each product\n",
    "MaxDemanded = np.matrix('10000 15000 8000')\n",
    "MaxDemanded = MaxDemanded.T\n",
    "\n",
    "TotalSpace = 6000\n",
    "NumWorkingDays = 5\n",
    "NumWorkingHours = 8"
   ]
  },
  {
   "cell_type": "code",
   "execution_count": 86,
   "metadata": {},
   "outputs": [],
   "source": [
    "# Part a\n",
    "\n",
    "X = cp.Variable((3, 1))\n",
    "\n",
    "IdealProducedWeek = 5 * IdealProduceable\n",
    "TotalStorable = cp.multiply(IdealProducedWeek, Storage)\n",
    "\n",
    "# print(IdealProducedWeek)\n",
    "# print(TotalStorable.value)\n",
    "# print(cp.multiply(IdealProducedWeek, Profits).value)\n",
    "\n",
    "MyObjective_A = cp.Maximize(X.T@cp.multiply(IdealProducedWeek, Profits))\n",
    "\n",
    "MyConstraints_A = [\n",
    "    X >= 0,\n",
    "    X.T@TotalStorable <= 6000,\n",
    "    cp.multiply(X, IdealProducedWeek) >= MinDelivered,\n",
    "    cp.multiply(X, IdealProducedWeek) <= MaxDemanded,\n",
    "    X.T@np.ones((3,1)) <= 1,\n",
    "    X <= np.ones((3,1))\n",
    "]"
   ]
  },
  {
   "cell_type": "code",
   "execution_count": 87,
   "metadata": {},
   "outputs": [
    {
     "name": "stdout",
     "output_type": "stream",
     "text": [
      "The maximum profit is: 145000.0 dollars\n",
      "The proportion of time of each product produced is: \n",
      "[[0.16666667]\n",
      " [0.35335573]\n",
      " [0.47997761]]\n"
     ]
    }
   ],
   "source": [
    "MyProblem_A = cp.Problem(MyObjective_A, MyConstraints_A)\n",
    "value = MyProblem_A.solve()\n",
    "# print(value)\n",
    "print(\"The maximum profit is: {} dollars\".format(np.round(value, 2)))\n",
    "print(\"The proportion of time of each product produced is: \")\n",
    "print(X.value)"
   ]
  },
  {
   "cell_type": "code",
   "execution_count": 88,
   "metadata": {},
   "outputs": [],
   "source": [
    "#Part b\n",
    "\n",
    "Y = cp.Variable((3, 1))\n",
    "IdealProduceable_Reciprocal = np.reciprocal(IdealProduceable)\n",
    "# print(IdealProduceable_Reciprocal)\n",
    "\n",
    "MyObjective_B = cp.Maximize(Y.T@Profits)\n",
    "\n",
    "MyConstraints_B = [\n",
    "    Y >= 0,\n",
    "    Y.T@Storage <= TotalSpace,\n",
    "    Y >= MinDelivered,\n",
    "    Y <= MaxDemanded,\n",
    "    Y.T@IdealProduceable_Reciprocal <= 5\n",
    "]"
   ]
  },
  {
   "cell_type": "code",
   "execution_count": 89,
   "metadata": {},
   "outputs": [
    {
     "name": "stdout",
     "output_type": "stream",
     "text": [
      "The maximum profit is: 145000.0 dollars\n",
      "The amount of each product produced is: \n",
      "[[5000.00001178]\n",
      " [7621.54643947]\n",
      " [7927.07212906]]\n"
     ]
    }
   ],
   "source": [
    "MyProblem_B = cp.Problem(MyObjective_B, MyConstraints_B)\n",
    "value = MyProblem_B.solve()\n",
    "# print(value)\n",
    "print(\"The maximum profit is: {} dollars\".format(np.round(value, 2)))\n",
    "print(\"The amount of each product produced is: \")\n",
    "print(Y.value)"
   ]
  },
  {
   "cell_type": "code",
   "execution_count": 90,
   "metadata": {},
   "outputs": [],
   "source": [
    "#Part c\n",
    "\n",
    "Z = cp.Variable((3, 1))\n",
    "PerHourProducable = IdealProduceable/NumWorkingHours\n",
    "\n",
    "MyObjective_C = cp.Maximize((Z.T@np.multiply(PerHourProducable, Profits)) / 1000)\n",
    "\n",
    "# print(PerHourProducable)\n",
    "# print(Profits)\n",
    "# print(np.multiply(PerHourProducable, Profits))\n",
    "\n",
    "MyConstraints_C = [\n",
    "    Z >= 0,\n",
    "    Z <= 40 * np.ones((3, 1)),\n",
    "    Z.T@cp.multiply(PerHourProducable, Storage) <= TotalSpace,\n",
    "    cp.multiply(PerHourProducable, Z) >= MinDelivered,\n",
    "    cp.multiply(PerHourProducable, Z) <= MaxDemanded,\n",
    "    Z.T@np.ones((3,1)) <= 40\n",
    "]\n"
   ]
  },
  {
   "cell_type": "code",
   "execution_count": 91,
   "metadata": {},
   "outputs": [
    {
     "name": "stdout",
     "output_type": "stream",
     "text": [
      "The maximum profit is: 145.0 thousand dollars\n",
      "The number of hours for each product produced is: \n",
      "[[ 6.66666667]\n",
      " [13.40351759]\n",
      " [19.92981573]]\n"
     ]
    }
   ],
   "source": [
    "MyProblem_C = cp.Problem(MyObjective_C, MyConstraints_C)\n",
    "value = MyProblem_C.solve()\n",
    "# print(value)\n",
    "print(\"The maximum profit is: {} thousand dollars\".format(np.round(value, 2)))\n",
    "print(\"The number of hours for each product produced is: \")\n",
    "print(Z.value)"
   ]
  },
  {
   "cell_type": "code",
   "execution_count": 92,
   "metadata": {},
   "outputs": [
    {
     "name": "stdout",
     "output_type": "stream",
     "text": [
      "The relation between part a and part b: \n",
      "X * 40 = Z (approx)\n",
      "X * 40: \n",
      "[[ 6.66666666]\n",
      " [14.13422914]\n",
      " [19.19910421]]\n",
      "Z: \n",
      "[[ 6.66666667]\n",
      " [13.40351759]\n",
      " [19.92981573]]\n",
      "Error between both the matrices\n",
      "[[-1.19386057e-08]\n",
      " [ 7.30711550e-01]\n",
      " [-7.30711517e-01]]\n"
     ]
    }
   ],
   "source": [
    "print(\"The relation between part a and part b: \")\n",
    "print(\"X * 40 = Z (approx)\")\n",
    "print(\"X * 40: \")\n",
    "print((X*40).value)\n",
    "print(\"Z: \")\n",
    "print(Z.value)\n",
    "print(\"Error between both the matrices\")\n",
    "error_vec = (X*40).value - Z.value\n",
    "print(error_vec)"
   ]
  }
 ],
 "metadata": {
  "interpreter": {
   "hash": "08d3eecb2fabbb0c5d31990520f98cd04f9a92388665ee41436dce04fb0533ac"
  },
  "kernelspec": {
   "display_name": "Python 3.9.0 64-bit",
   "language": "python",
   "name": "python3"
  },
  "language_info": {
   "codemirror_mode": {
    "name": "ipython",
    "version": 3
   },
   "file_extension": ".py",
   "mimetype": "text/x-python",
   "name": "python",
   "nbconvert_exporter": "python",
   "pygments_lexer": "ipython3",
   "version": "3.9.0"
  },
  "orig_nbformat": 4
 },
 "nbformat": 4,
 "nbformat_minor": 2
}
